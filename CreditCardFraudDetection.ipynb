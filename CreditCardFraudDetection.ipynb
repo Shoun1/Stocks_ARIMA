{
 "cells": [
  {
   "cell_type": "code",
   "execution_count": 2,
   "id": "f7d05d60-9080-4b83-9038-0b17dc4db8de",
   "metadata": {},
   "outputs": [],
   "source": [
    "import pandas as pd\n",
    "import numpy as np\n",
    "import matplotlib.pyplot as plt\n",
    "from sklearn.model_selection import train_test_split\n",
    "from sklearn.linear_model import LogisticRegression\n",
    "from sklearn.preprocessing import StandardScaler\n",
    "from sklearn.metrics import accuracy_score,mean_squared_error\n",
    "import seaborn as sns\n",
    "cd = pd.read_csv('creditcard.csv')"
   ]
  },
  {
   "cell_type": "code",
   "execution_count": 3,
   "id": "945c4c28-0423-4681-adcb-c25a33cd65d3",
   "metadata": {},
   "outputs": [
    {
     "data": {
      "text/plain": [
       "0      0.0\n",
       "1      0.0\n",
       "2      1.0\n",
       "3      1.0\n",
       "4      2.0\n",
       "5      2.0\n",
       "6      4.0\n",
       "7      7.0\n",
       "8      7.0\n",
       "9      9.0\n",
       "10    10.0\n",
       "11    10.0\n",
       "12    10.0\n",
       "13    11.0\n",
       "14    12.0\n",
       "15    12.0\n",
       "16    12.0\n",
       "17    13.0\n",
       "18    14.0\n",
       "19    15.0\n",
       "Name: Time, dtype: float64"
      ]
     },
     "execution_count": 3,
     "metadata": {},
     "output_type": "execute_result"
    }
   ],
   "source": [
    "cd.Time.head(20)\n",
    "#cd.tail()"
   ]
  },
  {
   "cell_type": "code",
   "execution_count": 4,
   "id": "2b30cdad-ae27-41e0-b48a-7e12740685da",
   "metadata": {},
   "outputs": [
    {
     "data": {
      "text/plain": [
       "Index(['Time', 'V1', 'V2', 'V3', 'V4', 'V5', 'V6', 'V7', 'V8', 'V9', 'V10',\n",
       "       'V11', 'V12', 'V13', 'V14', 'V15', 'V16', 'V17', 'V18', 'V19', 'V20',\n",
       "       'V21', 'V22', 'V23', 'V24', 'V25', 'V26', 'V27', 'V28', 'Amount',\n",
       "       'Class'],\n",
       "      dtype='object')"
      ]
     },
     "execution_count": 4,
     "metadata": {},
     "output_type": "execute_result"
    }
   ],
   "source": [
    "cd.columns"
   ]
  },
  {
   "cell_type": "code",
   "execution_count": 5,
   "id": "d39750f5-a8fd-495a-8fd9-40567a0af785",
   "metadata": {},
   "outputs": [
    {
     "name": "stdout",
     "output_type": "stream",
     "text": [
      "0         0\n",
      "1         0\n",
      "2         0\n",
      "3         0\n",
      "4         0\n",
      "         ..\n",
      "284802    0\n",
      "284803    0\n",
      "284804    0\n",
      "284805    0\n",
      "284806    0\n",
      "Name: Class, Length: 284807, dtype: int64\n"
     ]
    }
   ],
   "source": [
    "print(cd['Class'])"
   ]
  },
  {
   "cell_type": "code",
   "execution_count": 6,
   "id": "347a9643-2265-4db4-adab-6752289fd924",
   "metadata": {},
   "outputs": [
    {
     "name": "stdout",
     "output_type": "stream",
     "text": [
      "<class 'pandas.core.frame.DataFrame'>\n",
      "RangeIndex: 284807 entries, 0 to 284806\n",
      "Data columns (total 31 columns):\n",
      " #   Column  Non-Null Count   Dtype  \n",
      "---  ------  --------------   -----  \n",
      " 0   Time    284807 non-null  float64\n",
      " 1   V1      284807 non-null  float64\n",
      " 2   V2      284807 non-null  float64\n",
      " 3   V3      284807 non-null  float64\n",
      " 4   V4      284807 non-null  float64\n",
      " 5   V5      284807 non-null  float64\n",
      " 6   V6      284807 non-null  float64\n",
      " 7   V7      284807 non-null  float64\n",
      " 8   V8      284807 non-null  float64\n",
      " 9   V9      284807 non-null  float64\n",
      " 10  V10     284807 non-null  float64\n",
      " 11  V11     284807 non-null  float64\n",
      " 12  V12     284807 non-null  float64\n",
      " 13  V13     284807 non-null  float64\n",
      " 14  V14     284807 non-null  float64\n",
      " 15  V15     284807 non-null  float64\n",
      " 16  V16     284807 non-null  float64\n",
      " 17  V17     284807 non-null  float64\n",
      " 18  V18     284807 non-null  float64\n",
      " 19  V19     284807 non-null  float64\n",
      " 20  V20     284807 non-null  float64\n",
      " 21  V21     284807 non-null  float64\n",
      " 22  V22     284807 non-null  float64\n",
      " 23  V23     284807 non-null  float64\n",
      " 24  V24     284807 non-null  float64\n",
      " 25  V25     284807 non-null  float64\n",
      " 26  V26     284807 non-null  float64\n",
      " 27  V27     284807 non-null  float64\n",
      " 28  V28     284807 non-null  float64\n",
      " 29  Amount  284807 non-null  float64\n",
      " 30  Class   284807 non-null  int64  \n",
      "dtypes: float64(30), int64(1)\n",
      "memory usage: 67.4 MB\n"
     ]
    }
   ],
   "source": [
    "cd.info()"
   ]
  },
  {
   "cell_type": "code",
   "execution_count": 7,
   "id": "7862a2a8-a1a6-4c2c-aac6-6494ab57b0a0",
   "metadata": {},
   "outputs": [
    {
     "data": {
      "text/plain": [
       "284807"
      ]
     },
     "execution_count": 7,
     "metadata": {},
     "output_type": "execute_result"
    }
   ],
   "source": [
    "len(cd)"
   ]
  },
  {
   "cell_type": "code",
   "execution_count": 8,
   "id": "41ad35be-68c3-49c9-9696-22c5c63028ed",
   "metadata": {},
   "outputs": [
    {
     "data": {
      "text/html": [
       "<div>\n",
       "<style scoped>\n",
       "    .dataframe tbody tr th:only-of-type {\n",
       "        vertical-align: middle;\n",
       "    }\n",
       "\n",
       "    .dataframe tbody tr th {\n",
       "        vertical-align: top;\n",
       "    }\n",
       "\n",
       "    .dataframe thead th {\n",
       "        text-align: right;\n",
       "    }\n",
       "</style>\n",
       "<table border=\"1\" class=\"dataframe\">\n",
       "  <thead>\n",
       "    <tr style=\"text-align: right;\">\n",
       "      <th></th>\n",
       "      <th>Time</th>\n",
       "      <th>V1</th>\n",
       "      <th>V2</th>\n",
       "      <th>V3</th>\n",
       "      <th>V4</th>\n",
       "      <th>V5</th>\n",
       "      <th>V6</th>\n",
       "      <th>V7</th>\n",
       "      <th>V8</th>\n",
       "      <th>V9</th>\n",
       "      <th>...</th>\n",
       "      <th>V21</th>\n",
       "      <th>V22</th>\n",
       "      <th>V23</th>\n",
       "      <th>V24</th>\n",
       "      <th>V25</th>\n",
       "      <th>V26</th>\n",
       "      <th>V27</th>\n",
       "      <th>V28</th>\n",
       "      <th>Amount</th>\n",
       "      <th>Class</th>\n",
       "    </tr>\n",
       "  </thead>\n",
       "  <tbody>\n",
       "    <tr>\n",
       "      <th>count</th>\n",
       "      <td>284807.000000</td>\n",
       "      <td>2.848070e+05</td>\n",
       "      <td>2.848070e+05</td>\n",
       "      <td>2.848070e+05</td>\n",
       "      <td>2.848070e+05</td>\n",
       "      <td>2.848070e+05</td>\n",
       "      <td>2.848070e+05</td>\n",
       "      <td>2.848070e+05</td>\n",
       "      <td>2.848070e+05</td>\n",
       "      <td>2.848070e+05</td>\n",
       "      <td>...</td>\n",
       "      <td>2.848070e+05</td>\n",
       "      <td>2.848070e+05</td>\n",
       "      <td>2.848070e+05</td>\n",
       "      <td>2.848070e+05</td>\n",
       "      <td>2.848070e+05</td>\n",
       "      <td>2.848070e+05</td>\n",
       "      <td>2.848070e+05</td>\n",
       "      <td>2.848070e+05</td>\n",
       "      <td>284807.000000</td>\n",
       "      <td>284807.000000</td>\n",
       "    </tr>\n",
       "    <tr>\n",
       "      <th>mean</th>\n",
       "      <td>94813.859575</td>\n",
       "      <td>1.168375e-15</td>\n",
       "      <td>3.416908e-16</td>\n",
       "      <td>-1.379537e-15</td>\n",
       "      <td>2.074095e-15</td>\n",
       "      <td>9.604066e-16</td>\n",
       "      <td>1.487313e-15</td>\n",
       "      <td>-5.556467e-16</td>\n",
       "      <td>1.213481e-16</td>\n",
       "      <td>-2.406331e-15</td>\n",
       "      <td>...</td>\n",
       "      <td>1.654067e-16</td>\n",
       "      <td>-3.568593e-16</td>\n",
       "      <td>2.578648e-16</td>\n",
       "      <td>4.473266e-15</td>\n",
       "      <td>5.340915e-16</td>\n",
       "      <td>1.683437e-15</td>\n",
       "      <td>-3.660091e-16</td>\n",
       "      <td>-1.227390e-16</td>\n",
       "      <td>88.349619</td>\n",
       "      <td>0.001727</td>\n",
       "    </tr>\n",
       "    <tr>\n",
       "      <th>std</th>\n",
       "      <td>47488.145955</td>\n",
       "      <td>1.958696e+00</td>\n",
       "      <td>1.651309e+00</td>\n",
       "      <td>1.516255e+00</td>\n",
       "      <td>1.415869e+00</td>\n",
       "      <td>1.380247e+00</td>\n",
       "      <td>1.332271e+00</td>\n",
       "      <td>1.237094e+00</td>\n",
       "      <td>1.194353e+00</td>\n",
       "      <td>1.098632e+00</td>\n",
       "      <td>...</td>\n",
       "      <td>7.345240e-01</td>\n",
       "      <td>7.257016e-01</td>\n",
       "      <td>6.244603e-01</td>\n",
       "      <td>6.056471e-01</td>\n",
       "      <td>5.212781e-01</td>\n",
       "      <td>4.822270e-01</td>\n",
       "      <td>4.036325e-01</td>\n",
       "      <td>3.300833e-01</td>\n",
       "      <td>250.120109</td>\n",
       "      <td>0.041527</td>\n",
       "    </tr>\n",
       "    <tr>\n",
       "      <th>min</th>\n",
       "      <td>0.000000</td>\n",
       "      <td>-5.640751e+01</td>\n",
       "      <td>-7.271573e+01</td>\n",
       "      <td>-4.832559e+01</td>\n",
       "      <td>-5.683171e+00</td>\n",
       "      <td>-1.137433e+02</td>\n",
       "      <td>-2.616051e+01</td>\n",
       "      <td>-4.355724e+01</td>\n",
       "      <td>-7.321672e+01</td>\n",
       "      <td>-1.343407e+01</td>\n",
       "      <td>...</td>\n",
       "      <td>-3.483038e+01</td>\n",
       "      <td>-1.093314e+01</td>\n",
       "      <td>-4.480774e+01</td>\n",
       "      <td>-2.836627e+00</td>\n",
       "      <td>-1.029540e+01</td>\n",
       "      <td>-2.604551e+00</td>\n",
       "      <td>-2.256568e+01</td>\n",
       "      <td>-1.543008e+01</td>\n",
       "      <td>0.000000</td>\n",
       "      <td>0.000000</td>\n",
       "    </tr>\n",
       "    <tr>\n",
       "      <th>25%</th>\n",
       "      <td>54201.500000</td>\n",
       "      <td>-9.203734e-01</td>\n",
       "      <td>-5.985499e-01</td>\n",
       "      <td>-8.903648e-01</td>\n",
       "      <td>-8.486401e-01</td>\n",
       "      <td>-6.915971e-01</td>\n",
       "      <td>-7.682956e-01</td>\n",
       "      <td>-5.540759e-01</td>\n",
       "      <td>-2.086297e-01</td>\n",
       "      <td>-6.430976e-01</td>\n",
       "      <td>...</td>\n",
       "      <td>-2.283949e-01</td>\n",
       "      <td>-5.423504e-01</td>\n",
       "      <td>-1.618463e-01</td>\n",
       "      <td>-3.545861e-01</td>\n",
       "      <td>-3.171451e-01</td>\n",
       "      <td>-3.269839e-01</td>\n",
       "      <td>-7.083953e-02</td>\n",
       "      <td>-5.295979e-02</td>\n",
       "      <td>5.600000</td>\n",
       "      <td>0.000000</td>\n",
       "    </tr>\n",
       "    <tr>\n",
       "      <th>50%</th>\n",
       "      <td>84692.000000</td>\n",
       "      <td>1.810880e-02</td>\n",
       "      <td>6.548556e-02</td>\n",
       "      <td>1.798463e-01</td>\n",
       "      <td>-1.984653e-02</td>\n",
       "      <td>-5.433583e-02</td>\n",
       "      <td>-2.741871e-01</td>\n",
       "      <td>4.010308e-02</td>\n",
       "      <td>2.235804e-02</td>\n",
       "      <td>-5.142873e-02</td>\n",
       "      <td>...</td>\n",
       "      <td>-2.945017e-02</td>\n",
       "      <td>6.781943e-03</td>\n",
       "      <td>-1.119293e-02</td>\n",
       "      <td>4.097606e-02</td>\n",
       "      <td>1.659350e-02</td>\n",
       "      <td>-5.213911e-02</td>\n",
       "      <td>1.342146e-03</td>\n",
       "      <td>1.124383e-02</td>\n",
       "      <td>22.000000</td>\n",
       "      <td>0.000000</td>\n",
       "    </tr>\n",
       "    <tr>\n",
       "      <th>75%</th>\n",
       "      <td>139320.500000</td>\n",
       "      <td>1.315642e+00</td>\n",
       "      <td>8.037239e-01</td>\n",
       "      <td>1.027196e+00</td>\n",
       "      <td>7.433413e-01</td>\n",
       "      <td>6.119264e-01</td>\n",
       "      <td>3.985649e-01</td>\n",
       "      <td>5.704361e-01</td>\n",
       "      <td>3.273459e-01</td>\n",
       "      <td>5.971390e-01</td>\n",
       "      <td>...</td>\n",
       "      <td>1.863772e-01</td>\n",
       "      <td>5.285536e-01</td>\n",
       "      <td>1.476421e-01</td>\n",
       "      <td>4.395266e-01</td>\n",
       "      <td>3.507156e-01</td>\n",
       "      <td>2.409522e-01</td>\n",
       "      <td>9.104512e-02</td>\n",
       "      <td>7.827995e-02</td>\n",
       "      <td>77.165000</td>\n",
       "      <td>0.000000</td>\n",
       "    </tr>\n",
       "    <tr>\n",
       "      <th>max</th>\n",
       "      <td>172792.000000</td>\n",
       "      <td>2.454930e+00</td>\n",
       "      <td>2.205773e+01</td>\n",
       "      <td>9.382558e+00</td>\n",
       "      <td>1.687534e+01</td>\n",
       "      <td>3.480167e+01</td>\n",
       "      <td>7.330163e+01</td>\n",
       "      <td>1.205895e+02</td>\n",
       "      <td>2.000721e+01</td>\n",
       "      <td>1.559499e+01</td>\n",
       "      <td>...</td>\n",
       "      <td>2.720284e+01</td>\n",
       "      <td>1.050309e+01</td>\n",
       "      <td>2.252841e+01</td>\n",
       "      <td>4.584549e+00</td>\n",
       "      <td>7.519589e+00</td>\n",
       "      <td>3.517346e+00</td>\n",
       "      <td>3.161220e+01</td>\n",
       "      <td>3.384781e+01</td>\n",
       "      <td>25691.160000</td>\n",
       "      <td>1.000000</td>\n",
       "    </tr>\n",
       "  </tbody>\n",
       "</table>\n",
       "<p>8 rows × 31 columns</p>\n",
       "</div>"
      ],
      "text/plain": [
       "                Time            V1            V2            V3            V4  \\\n",
       "count  284807.000000  2.848070e+05  2.848070e+05  2.848070e+05  2.848070e+05   \n",
       "mean    94813.859575  1.168375e-15  3.416908e-16 -1.379537e-15  2.074095e-15   \n",
       "std     47488.145955  1.958696e+00  1.651309e+00  1.516255e+00  1.415869e+00   \n",
       "min         0.000000 -5.640751e+01 -7.271573e+01 -4.832559e+01 -5.683171e+00   \n",
       "25%     54201.500000 -9.203734e-01 -5.985499e-01 -8.903648e-01 -8.486401e-01   \n",
       "50%     84692.000000  1.810880e-02  6.548556e-02  1.798463e-01 -1.984653e-02   \n",
       "75%    139320.500000  1.315642e+00  8.037239e-01  1.027196e+00  7.433413e-01   \n",
       "max    172792.000000  2.454930e+00  2.205773e+01  9.382558e+00  1.687534e+01   \n",
       "\n",
       "                 V5            V6            V7            V8            V9  \\\n",
       "count  2.848070e+05  2.848070e+05  2.848070e+05  2.848070e+05  2.848070e+05   \n",
       "mean   9.604066e-16  1.487313e-15 -5.556467e-16  1.213481e-16 -2.406331e-15   \n",
       "std    1.380247e+00  1.332271e+00  1.237094e+00  1.194353e+00  1.098632e+00   \n",
       "min   -1.137433e+02 -2.616051e+01 -4.355724e+01 -7.321672e+01 -1.343407e+01   \n",
       "25%   -6.915971e-01 -7.682956e-01 -5.540759e-01 -2.086297e-01 -6.430976e-01   \n",
       "50%   -5.433583e-02 -2.741871e-01  4.010308e-02  2.235804e-02 -5.142873e-02   \n",
       "75%    6.119264e-01  3.985649e-01  5.704361e-01  3.273459e-01  5.971390e-01   \n",
       "max    3.480167e+01  7.330163e+01  1.205895e+02  2.000721e+01  1.559499e+01   \n",
       "\n",
       "       ...           V21           V22           V23           V24  \\\n",
       "count  ...  2.848070e+05  2.848070e+05  2.848070e+05  2.848070e+05   \n",
       "mean   ...  1.654067e-16 -3.568593e-16  2.578648e-16  4.473266e-15   \n",
       "std    ...  7.345240e-01  7.257016e-01  6.244603e-01  6.056471e-01   \n",
       "min    ... -3.483038e+01 -1.093314e+01 -4.480774e+01 -2.836627e+00   \n",
       "25%    ... -2.283949e-01 -5.423504e-01 -1.618463e-01 -3.545861e-01   \n",
       "50%    ... -2.945017e-02  6.781943e-03 -1.119293e-02  4.097606e-02   \n",
       "75%    ...  1.863772e-01  5.285536e-01  1.476421e-01  4.395266e-01   \n",
       "max    ...  2.720284e+01  1.050309e+01  2.252841e+01  4.584549e+00   \n",
       "\n",
       "                V25           V26           V27           V28         Amount  \\\n",
       "count  2.848070e+05  2.848070e+05  2.848070e+05  2.848070e+05  284807.000000   \n",
       "mean   5.340915e-16  1.683437e-15 -3.660091e-16 -1.227390e-16      88.349619   \n",
       "std    5.212781e-01  4.822270e-01  4.036325e-01  3.300833e-01     250.120109   \n",
       "min   -1.029540e+01 -2.604551e+00 -2.256568e+01 -1.543008e+01       0.000000   \n",
       "25%   -3.171451e-01 -3.269839e-01 -7.083953e-02 -5.295979e-02       5.600000   \n",
       "50%    1.659350e-02 -5.213911e-02  1.342146e-03  1.124383e-02      22.000000   \n",
       "75%    3.507156e-01  2.409522e-01  9.104512e-02  7.827995e-02      77.165000   \n",
       "max    7.519589e+00  3.517346e+00  3.161220e+01  3.384781e+01   25691.160000   \n",
       "\n",
       "               Class  \n",
       "count  284807.000000  \n",
       "mean        0.001727  \n",
       "std         0.041527  \n",
       "min         0.000000  \n",
       "25%         0.000000  \n",
       "50%         0.000000  \n",
       "75%         0.000000  \n",
       "max         1.000000  \n",
       "\n",
       "[8 rows x 31 columns]"
      ]
     },
     "execution_count": 8,
     "metadata": {},
     "output_type": "execute_result"
    }
   ],
   "source": [
    "cd.describe()"
   ]
  },
  {
   "cell_type": "code",
   "execution_count": 9,
   "id": "7076ad5d-74b7-446e-9481-79815b42cb87",
   "metadata": {},
   "outputs": [
    {
     "data": {
      "text/plain": [
       "['Time',\n",
       " 'V1',\n",
       " 'V2',\n",
       " 'V3',\n",
       " 'V4',\n",
       " 'V5',\n",
       " 'V6',\n",
       " 'V7',\n",
       " 'V8',\n",
       " 'V9',\n",
       " 'V10',\n",
       " 'V11',\n",
       " 'V12',\n",
       " 'V13',\n",
       " 'V14',\n",
       " 'V15',\n",
       " 'V16',\n",
       " 'V17',\n",
       " 'V18',\n",
       " 'V19',\n",
       " 'V20',\n",
       " 'V21',\n",
       " 'V22',\n",
       " 'V23',\n",
       " 'V24',\n",
       " 'V25',\n",
       " 'V26',\n",
       " 'V27',\n",
       " 'V28',\n",
       " 'Amount',\n",
       " 'Class']"
      ]
     },
     "execution_count": 9,
     "metadata": {},
     "output_type": "execute_result"
    }
   ],
   "source": [
    "cat_cols = cd.select_dtypes(include = ['object']).columns\n",
    "num_cols = cd.select_dtypes(include=np.number).columns.tolist()\n",
    "num_cols"
   ]
  },
  {
   "cell_type": "code",
   "execution_count": 10,
   "id": "4760add6-f89d-4093-8f6f-74acea6d24c9",
   "metadata": {},
   "outputs": [
    {
     "data": {
      "text/plain": [
       "array([0, 1])"
      ]
     },
     "execution_count": 10,
     "metadata": {},
     "output_type": "execute_result"
    }
   ],
   "source": [
    "cd['Class'].unique()"
   ]
  },
  {
   "cell_type": "code",
   "execution_count": 11,
   "id": "043fe61f-18d5-4278-9a91-87ffcdcfbd05",
   "metadata": {},
   "outputs": [
    {
     "data": {
      "image/png": "[encoded data removed]",
      "text/plain": [
       "<Figure size 640x480 with 1 Axes>"
      ]
     },
     "metadata": {},
     "output_type": "display_data"
    }
   ],
   "source": [
    "#cd.plot(kind='box',subplots=True,layout=(25,25),sharex=False,sharey=False)\n",
    "#plt.show()\n",
    "colnames = cd.columns\n",
    "names = colnames.tolist()\n",
    "plt.boxplot(cd,label=names)\n",
    "plt.show()"
   ]
  },
  {
   "cell_type": "code",
   "execution_count": 12,
   "id": "36b0498f-6c79-4a14-9cb1-7e115155f989",
   "metadata": {},
   "outputs": [
    {
     "data": {
      "image/png": "[encoded data removed]",
      "text/plain": [
       "<Figure size 640x480 with 1 Axes>"
      ]
     },
     "metadata": {},
     "output_type": "display_data"
    }
   ],
   "source": [
    "sns.boxplot(x='Class',y='Amount',data=cd)\n",
    "plt.title('Box Plot of Transaction Amount by Class')\n",
    "plt.show()"
   ]
  },
  {
   "cell_type": "code",
   "execution_count": 13,
   "id": "09d882b8-62e6-4339-bc9e-fc826df5d2aa",
   "metadata": {},
   "outputs": [
    {
     "name": "stdout",
     "output_type": "stream",
     "text": [
      "0.0017304750013189597\n",
      "Fraud transactions: 492\n",
      "Genuine transactions: 284315\n"
     ]
    }
   ],
   "source": [
    "#determine no. of fraudulent transactions\n",
    "fraud = cd[cd['Class'] == 1]\n",
    "genuine = cd[cd['Class'] == 0]\n",
    "outlier_fraction = len(fraud)/float(len(genuine))\n",
    "print(outlier_fraction)\n",
    "print('Fraud transactions: {}'.format(len(cd[cd['Class'] == 1])))\n",
    "print('Genuine transactions: {}'.format(len(cd[cd['Class'] == 0])))\n",
    "\n"
   ]
  },
  {
   "cell_type": "code",
   "execution_count": 14,
   "id": "6c63058f-88e3-4b0a-9d6a-d9b9f444013a",
   "metadata": {},
   "outputs": [
    {
     "name": "stdout",
     "output_type": "stream",
     "text": [
      "Fraud transaction details\n",
      "count     492.000000\n",
      "mean      122.211321\n",
      "std       256.683288\n",
      "min         0.000000\n",
      "25%         1.000000\n",
      "50%         9.250000\n",
      "75%       105.890000\n",
      "max      2125.870000\n",
      "Name: Amount, dtype: float64\n"
     ]
    }
   ],
   "source": [
    "print('Fraud transaction details')\n",
    "print(fraud.Amount.describe())"
   ]
  },
  {
   "cell_type": "code",
   "execution_count": 15,
   "id": "1bc39d70-523a-41b2-8a66-ca51768fe395",
   "metadata": {},
   "outputs": [
    {
     "name": "stdout",
     "output_type": "stream",
     "text": [
      "Valid transaction details\n",
      "count    284315.000000\n",
      "mean         88.291022\n",
      "std         250.105092\n",
      "min           0.000000\n",
      "25%           5.650000\n",
      "50%          22.000000\n",
      "75%          77.050000\n",
      "max       25691.160000\n",
      "Name: Amount, dtype: float64\n"
     ]
    }
   ],
   "source": [
    "print('Valid transaction details')\n",
    "print(genuine.Amount.describe())"
   ]
  },
  {
   "cell_type": "code",
   "execution_count": 16,
   "id": "af36be7b-4ffe-49c8-a1b0-279d9fd0643e",
   "metadata": {},
   "outputs": [
    {
     "name": "stdout",
     "output_type": "stream",
     "text": [
      "            Time            V1            V2            V3            V4  \\\n",
      "Time    1.000000  1.173963e-01 -1.059333e-02 -4.196182e-01 -1.052602e-01   \n",
      "V1      0.117396  1.000000e+00  4.135835e-16 -1.227819e-15 -9.215150e-16   \n",
      "V2     -0.010593  4.135835e-16  1.000000e+00  3.243764e-16 -1.121065e-15   \n",
      "V3     -0.419618 -1.227819e-15  3.243764e-16  1.000000e+00  4.711293e-16   \n",
      "V4     -0.105260 -9.215150e-16 -1.121065e-15  4.711293e-16  1.000000e+00   \n",
      "V5      0.173072  1.812612e-17  5.157519e-16 -6.539009e-17 -1.719944e-15   \n",
      "V6     -0.063016 -6.506567e-16  2.787346e-16  1.627627e-15 -7.491959e-16   \n",
      "V7      0.084714 -1.005191e-15  2.055934e-16  4.895305e-16 -4.104503e-16   \n",
      "V8     -0.036949 -2.433822e-16 -5.377041e-17 -1.268779e-15  5.697192e-16   \n",
      "V9     -0.008660 -1.513678e-16  1.978488e-17  5.568367e-16  6.923247e-16   \n",
      "V10     0.030617  7.388135e-17 -3.991394e-16  1.156587e-15  2.232685e-16   \n",
      "V11    -0.247689  2.125498e-16  1.975426e-16  1.576830e-15  3.459380e-16   \n",
      "V12     0.124348  2.053457e-16 -9.568710e-17  6.310231e-16 -5.625518e-16   \n",
      "V13    -0.065902 -2.425603e-17  6.295388e-16  2.807652e-16  1.303306e-16   \n",
      "V14    -0.098757 -5.020280e-16 -1.730566e-16  4.739859e-16  2.282280e-16   \n",
      "V15    -0.183453  3.547782e-16 -4.995814e-17  9.068793e-16  1.377649e-16   \n",
      "V16     0.011903  7.212815e-17  1.177316e-17  8.299445e-16 -9.614528e-16   \n",
      "V17    -0.073297 -3.879840e-16 -2.685296e-16  7.614712e-16 -2.699612e-16   \n",
      "V18     0.090438  3.230206e-17  3.284605e-16  1.509897e-16 -5.103644e-16   \n",
      "V19     0.028975  1.502024e-16 -7.118719e-18  3.463522e-16 -3.980557e-16   \n",
      "V20    -0.050866  4.654551e-16  2.506675e-16 -9.316409e-16 -1.857247e-16   \n",
      "V21     0.044736 -2.457409e-16 -8.480447e-17  5.706192e-17 -1.949553e-16   \n",
      "V22     0.144059 -4.290944e-16  1.526333e-16 -1.133902e-15 -6.276051e-17   \n",
      "V23     0.051142  6.168652e-16  1.634231e-16 -4.983035e-16  9.164206e-17   \n",
      "V24    -0.016182 -4.425156e-17  1.247925e-17  2.686834e-19  1.584638e-16   \n",
      "V25    -0.233083 -9.605737e-16 -4.478846e-16 -1.104734e-15  6.070716e-16   \n",
      "V26    -0.041407 -1.581290e-17  2.057310e-16 -1.238062e-16 -4.247268e-16   \n",
      "V27    -0.005135  1.198124e-16 -4.966953e-16  1.045747e-15  3.977061e-17   \n",
      "V28    -0.009413  2.083082e-15 -5.093836e-16  9.775546e-16 -2.761403e-18   \n",
      "Amount -0.010596 -2.277087e-01 -5.314089e-01 -2.108805e-01  9.873167e-02   \n",
      "Class  -0.012323 -1.013473e-01  9.128865e-02 -1.929608e-01  1.334475e-01   \n",
      "\n",
      "                  V5            V6            V7            V8            V9  \\\n",
      "Time    1.730721e-01 -6.301647e-02  8.471437e-02 -3.694943e-02 -8.660434e-03   \n",
      "V1      1.812612e-17 -6.506567e-16 -1.005191e-15 -2.433822e-16 -1.513678e-16   \n",
      "V2      5.157519e-16  2.787346e-16  2.055934e-16 -5.377041e-17  1.978488e-17   \n",
      "V3     -6.539009e-17  1.627627e-15  4.895305e-16 -1.268779e-15  5.568367e-16   \n",
      "V4     -1.719944e-15 -7.491959e-16 -4.104503e-16  5.697192e-16  6.923247e-16   \n",
      "V5      1.000000e+00  2.408382e-16  2.715541e-16  7.437229e-16  7.391702e-16   \n",
      "V6      2.408382e-16  1.000000e+00  1.191668e-16 -1.104219e-16  4.131207e-16   \n",
      "V7      2.715541e-16  1.191668e-16  1.000000e+00  3.344412e-16  1.122501e-15   \n",
      "V8      7.437229e-16 -1.104219e-16  3.344412e-16  1.000000e+00  4.356078e-16   \n",
      "V9      7.391702e-16  4.131207e-16  1.122501e-15  4.356078e-16  1.000000e+00   \n",
      "V10    -5.202306e-16  5.932243e-17 -7.492834e-17 -2.801370e-16 -4.642274e-16   \n",
      "V11     7.203963e-16  1.980503e-15  1.425248e-16  2.487043e-16  1.354680e-16   \n",
      "V12     7.412552e-16  2.375468e-16 -3.536655e-18  1.839891e-16 -1.079314e-15   \n",
      "V13     5.886991e-16 -1.211182e-16  1.266462e-17 -2.921856e-16  2.251072e-15   \n",
      "V14     6.565143e-16  2.621312e-16  2.607772e-16 -8.599156e-16  3.784757e-15   \n",
      "V15    -8.720275e-16 -1.531188e-15 -1.690540e-16  4.127777e-16 -1.051167e-15   \n",
      "V16     2.246261e-15  2.623672e-18  5.869302e-17 -5.254741e-16 -1.214086e-15   \n",
      "V17     1.281914e-16  2.015618e-16  2.177192e-16 -2.269549e-16  1.113695e-15   \n",
      "V18     5.308590e-16  1.223814e-16  7.604126e-17 -3.667974e-16  4.993240e-16   \n",
      "V19    -1.450421e-16 -1.865597e-16 -1.881008e-16 -3.875186e-16 -1.376135e-16   \n",
      "V20    -3.554057e-16 -1.858755e-16  9.379684e-16  2.033737e-16 -2.343720e-16   \n",
      "V21    -3.920976e-16  5.833316e-17 -2.027779e-16  3.892798e-16  1.936953e-16   \n",
      "V22     1.253751e-16 -4.705235e-19 -8.898922e-16  2.026927e-16 -7.071869e-16   \n",
      "V23    -8.428683e-18  1.046712e-16 -4.387401e-16  6.377260e-17 -5.214137e-16   \n",
      "V24    -1.149255e-15 -1.071589e-15  7.434913e-18 -1.047097e-16 -1.430343e-16   \n",
      "V25     4.808532e-16  4.562861e-16 -3.094082e-16 -4.653279e-16  6.757763e-16   \n",
      "V26     4.319541e-16 -1.357067e-16 -9.657637e-16 -1.727276e-16 -7.888853e-16   \n",
      "V27     6.590482e-16 -4.452461e-16 -1.782106e-15  1.299943e-16 -6.709655e-17   \n",
      "V28    -5.613951e-18  2.594754e-16 -2.776530e-16 -6.200930e-16  1.110541e-15   \n",
      "Amount -3.863563e-01  2.159812e-01  3.973113e-01 -1.030791e-01 -4.424560e-02   \n",
      "Class  -9.497430e-02 -4.364316e-02 -1.872566e-01  1.987512e-02 -9.773269e-02   \n",
      "\n",
      "        ...           V21           V22           V23           V24  \\\n",
      "Time    ...  4.473573e-02  1.440591e-01  5.114236e-02 -1.618187e-02   \n",
      "V1      ... -2.457409e-16 -4.290944e-16  6.168652e-16 -4.425156e-17   \n",
      "V2      ... -8.480447e-17  1.526333e-16  1.634231e-16  1.247925e-17   \n",
      "V3      ...  5.706192e-17 -1.133902e-15 -4.983035e-16  2.686834e-19   \n",
      "V4      ... -1.949553e-16 -6.276051e-17  9.164206e-17  1.584638e-16   \n",
      "V5      ... -3.920976e-16  1.253751e-16 -8.428683e-18 -1.149255e-15   \n",
      "V6      ...  5.833316e-17 -4.705235e-19  1.046712e-16 -1.071589e-15   \n",
      "V7      ... -2.027779e-16 -8.898922e-16 -4.387401e-16  7.434913e-18   \n",
      "V8      ...  3.892798e-16  2.026927e-16  6.377260e-17 -1.047097e-16   \n",
      "V9      ...  1.936953e-16 -7.071869e-16 -5.214137e-16 -1.430343e-16   \n",
      "V10     ...  1.177547e-15 -6.418202e-16  3.214491e-16 -1.355885e-16   \n",
      "V11     ... -5.658364e-16  7.772895e-16 -4.505332e-16  1.933267e-15   \n",
      "V12     ...  7.300527e-16  1.644699e-16  1.800885e-16  4.436512e-16   \n",
      "V13     ...  1.008461e-16  6.747721e-17 -7.132064e-16 -1.397470e-16   \n",
      "V14     ... -3.356561e-16  3.740383e-16  3.883204e-16  2.003482e-16   \n",
      "V15     ...  6.605263e-17 -4.208921e-16 -3.912243e-16 -4.478263e-16   \n",
      "V16     ... -4.715090e-16 -7.923387e-17  5.020770e-16 -3.005985e-16   \n",
      "V17     ... -8.230527e-16 -8.743398e-16  3.706214e-16 -2.403828e-16   \n",
      "V18     ... -9.408680e-16 -4.819365e-16 -1.912006e-16 -8.986916e-17   \n",
      "V19     ...  5.115885e-16 -1.163768e-15  7.032035e-16  2.587708e-17   \n",
      "V20     ... -7.614597e-16  1.009285e-15  2.712885e-16  1.277215e-16   \n",
      "V21     ...  1.000000e+00  3.649908e-15  8.119580e-16  1.761054e-16   \n",
      "V22     ...  3.649908e-15  1.000000e+00 -7.303916e-17  9.970809e-17   \n",
      "V23     ...  8.119580e-16 -7.303916e-17  1.000000e+00  2.130519e-17   \n",
      "V24     ...  1.761054e-16  9.970809e-17  2.130519e-17  1.000000e+00   \n",
      "V25     ... -1.686082e-16 -5.018575e-16 -8.232727e-17  1.015391e-15   \n",
      "V26     ... -5.557329e-16 -2.503187e-17  1.114524e-15  1.343722e-16   \n",
      "V27     ... -1.211281e-15  8.461337e-17  2.839721e-16 -2.274142e-16   \n",
      "V28     ...  5.278775e-16 -6.627203e-16  1.481903e-15 -2.819805e-16   \n",
      "Amount  ...  1.059989e-01 -6.480065e-02 -1.126326e-01  5.146217e-03   \n",
      "Class   ...  4.041338e-02  8.053175e-04 -2.685156e-03 -7.220907e-03   \n",
      "\n",
      "                 V25           V26           V27           V28    Amount  \\\n",
      "Time   -2.330828e-01 -4.140710e-02 -5.134591e-03 -9.412688e-03 -0.010596   \n",
      "V1     -9.605737e-16 -1.581290e-17  1.198124e-16  2.083082e-15 -0.227709   \n",
      "V2     -4.478846e-16  2.057310e-16 -4.966953e-16 -5.093836e-16 -0.531409   \n",
      "V3     -1.104734e-15 -1.238062e-16  1.045747e-15  9.775546e-16 -0.210880   \n",
      "V4      6.070716e-16 -4.247268e-16  3.977061e-17 -2.761403e-18  0.098732   \n",
      "V5      4.808532e-16  4.319541e-16  6.590482e-16 -5.613951e-18 -0.386356   \n",
      "V6      4.562861e-16 -1.357067e-16 -4.452461e-16  2.594754e-16  0.215981   \n",
      "V7     -3.094082e-16 -9.657637e-16 -1.782106e-15 -2.776530e-16  0.397311   \n",
      "V8     -4.653279e-16 -1.727276e-16  1.299943e-16 -6.200930e-16 -0.103079   \n",
      "V9      6.757763e-16 -7.888853e-16 -6.709655e-17  1.110541e-15 -0.044246   \n",
      "V10    -2.846052e-16 -3.028119e-16 -2.197977e-16  4.864782e-17 -0.101502   \n",
      "V11    -5.600475e-16 -1.003221e-16 -2.640281e-16 -3.792314e-16  0.000104   \n",
      "V12    -5.712973e-16 -2.359969e-16 -4.672391e-16  6.415167e-16 -0.009542   \n",
      "V13    -5.497612e-16 -1.769255e-16 -4.720898e-16  1.144372e-15  0.005293   \n",
      "V14    -8.547932e-16 -1.660327e-16  1.044274e-16  2.289427e-15  0.033751   \n",
      "V15     3.206423e-16  2.817791e-16 -1.143519e-15 -1.194130e-15 -0.002986   \n",
      "V16    -1.345418e-15 -7.290010e-16  6.789513e-16  7.588849e-16 -0.003910   \n",
      "V17     2.666806e-16  6.932833e-16  6.148525e-16 -5.534540e-17  0.007309   \n",
      "V18    -6.629212e-17  2.990167e-16  2.242791e-16  7.976796e-16  0.035650   \n",
      "V19     9.577163e-16  5.898033e-16 -2.959370e-16 -1.405379e-15 -0.056151   \n",
      "V20     1.410054e-16 -2.803504e-16 -1.138829e-15 -2.436795e-16  0.339403   \n",
      "V21    -1.686082e-16 -5.557329e-16 -1.211281e-15  5.278775e-16  0.105999   \n",
      "V22    -5.018575e-16 -2.503187e-17  8.461337e-17 -6.627203e-16 -0.064801   \n",
      "V23    -8.232727e-17  1.114524e-15  2.839721e-16  1.481903e-15 -0.112633   \n",
      "V24     1.015391e-15  1.343722e-16 -2.274142e-16 -2.819805e-16  0.005146   \n",
      "V25     1.000000e+00  2.646517e-15 -6.406679e-16 -7.008939e-16 -0.047837   \n",
      "V26     2.646517e-15  1.000000e+00 -3.667715e-16 -2.782204e-16 -0.003208   \n",
      "V27    -6.406679e-16 -3.667715e-16  1.000000e+00 -3.061287e-16  0.028825   \n",
      "V28    -7.008939e-16 -2.782204e-16 -3.061287e-16  1.000000e+00  0.010258   \n",
      "Amount -4.783686e-02 -3.208037e-03  2.882546e-02  1.025822e-02  1.000000   \n",
      "Class   3.307706e-03  4.455398e-03  1.757973e-02  9.536041e-03  0.005632   \n",
      "\n",
      "           Class  \n",
      "Time   -0.012323  \n",
      "V1     -0.101347  \n",
      "V2      0.091289  \n",
      "V3     -0.192961  \n",
      "V4      0.133447  \n",
      "V5     -0.094974  \n",
      "V6     -0.043643  \n",
      "V7     -0.187257  \n",
      "V8      0.019875  \n",
      "V9     -0.097733  \n",
      "V10    -0.216883  \n",
      "V11     0.154876  \n",
      "V12    -0.260593  \n",
      "V13    -0.004570  \n",
      "V14    -0.302544  \n",
      "V15    -0.004223  \n",
      "V16    -0.196539  \n",
      "V17    -0.326481  \n",
      "V18    -0.111485  \n",
      "V19     0.034783  \n",
      "V20     0.020090  \n",
      "V21     0.040413  \n",
      "V22     0.000805  \n",
      "V23    -0.002685  \n",
      "V24    -0.007221  \n",
      "V25     0.003308  \n",
      "V26     0.004455  \n",
      "V27     0.017580  \n",
      "V28     0.009536  \n",
      "Amount  0.005632  \n",
      "Class   1.000000  \n",
      "\n",
      "[31 rows x 31 columns]\n"
     ]
    },
    {
     "data": {
      "image/png": "[encoded data removed]",
      "text/plain": [
       "<Figure size 1200x800 with 2 Axes>"
      ]
     },
     "metadata": {},
     "output_type": "display_data"
    }
   ],
   "source": [
    "corrmat = cd.corr()\n",
    "print(corrmat)\n",
    "plt.figure(figsize=(12, 8))\n",
    "sns.heatmap(corrmat,vmax=.8,square=True)\n",
    "plt.show()"
   ]
  },
  {
   "cell_type": "code",
   "execution_count": 17,
   "id": "dc0a8e73-5fa3-4ffd-a94e-fbe7b9786a77",
   "metadata": {},
   "outputs": [
    {
     "name": "stdout",
     "output_type": "stream",
     "text": [
      "(284807, 30)\n",
      "(284807,)\n"
     ]
    }
   ],
   "source": [
    "X = cd.drop(['Class'],axis=1)\n",
    "Y = cd[\"Class\"]\n",
    "print(X.shape)\n",
    "print(Y.shape)"
   ]
  },
  {
   "cell_type": "code",
   "execution_count": 22,
   "id": "3b0115de-79e0-4ce5-9f9f-c1ca5d292732",
   "metadata": {},
   "outputs": [
    {
     "name": "stdout",
     "output_type": "stream",
     "text": [
      "227845\n",
      "56962\n",
      "227845\n",
      "56962\n"
     ]
    }
   ],
   "source": [
    "X_train,X_test,Y_train,Y_test = train_test_split(X,Y,test_size=0.2,random_state=1)\n",
    "print(len(X_train))\n",
    "print(len(X_test))\n",
    "print(len(Y_train))\n",
    "print(len(Y_test))"
   ]
  },
  {
   "cell_type": "code",
   "execution_count": 27,
   "id": "db5fc811-767c-494a-b41b-18fd8d359f9c",
   "metadata": {},
   "outputs": [
    {
     "data": {
      "text/plain": [
       "56962"
      ]
     },
     "execution_count": 27,
     "metadata": {},
     "output_type": "execute_result"
    }
   ],
   "source": [
    "scaler = StandardScaler()\n",
    "X_train = scaler.fit_transform(X_train)\n",
    "X_test = scaler.transform(X_test)\n",
    "regr = LogisticRegression()\n",
    "regr.fit(X_train,Y_train) #fit the training data\n",
    "y_pred_test = regr.predict(X_test)"
   ]
  },
  {
   "cell_type": "code",
   "execution_count": 31,
   "id": "8dc061fb-7d76-487d-a57c-9bf8291a93a7",
   "metadata": {},
   "outputs": [
    {
     "name": "stdout",
     "output_type": "stream",
     "text": [
      "Accuracy: 99.91573329588147\n"
     ]
    }
   ],
   "source": [
    "accuracy = accuracy_score(Y_test,y_pred_test)\n",
    "print(\"Accuracy: {}\".format(accuracy*100))"
   ]
  },
  {
   "cell_type": "code",
   "execution_count": null,
   "id": "03901375-4d5e-44bb-8e88-7e4b374381f0",
   "metadata": {},
   "outputs": [],
   "source": [
   ]
  }
 ],
 "metadata": {
  "kernelspec": {
   "display_name": "Python 3 (ipykernel)",
   "language": "python",
   "name": "python3"
  },
  "language_info": {
   "codemirror_mode": {
    "name": "ipython",
    "version": 3
   },
   "file_extension": ".py",
   "mimetype": "text/x-python",
   "name": "python",
   "nbconvert_exporter": "python",
   "pygments_lexer": "ipython3",
   "version": "3.10.12"
  }
 },
 "nbformat": 4,
 "nbformat_minor": 5
}
